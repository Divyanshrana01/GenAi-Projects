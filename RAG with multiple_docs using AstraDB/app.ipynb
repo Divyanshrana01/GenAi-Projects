{
 "cells": [
  {
   "cell_type": "markdown",
   "id": "f778cf7c",
   "metadata": {},
   "source": [
    "# DATA INGESTION & CHUNKING"
   ]
  },
  {
   "cell_type": "code",
   "execution_count": 46,
   "id": "98af30b0",
   "metadata": {},
   "outputs": [],
   "source": [
    "from langchain_community.document_loaders import DirectoryLoader,TextLoader, PyPDFLoader\n",
    "from langchain_community.document_loaders.powerpoint import UnstructuredPowerPointLoader\n",
    "from langchain_text_splitters import RecursiveCharacterTextSplitter"
   ]
  },
  {
   "cell_type": "code",
   "execution_count": 58,
   "id": "9924d0bf",
   "metadata": {},
   "outputs": [],
   "source": [
    "# Define the directory containing documents\n",
    "directory_path = \"D:\\GenAi\\GenAi-Projects\\RAG with multiple_docs using AstraDB\\data\"\n",
    "\n",
    "txt_loader = DirectoryLoader(\n",
    "    path=directory_path,\n",
    "    glob=\"**/*.txt\",\n",
    "    loader_cls=TextLoader\n",
    ")\n",
    "\n",
    "pdf_loader = DirectoryLoader(\n",
    "    path=directory_path,\n",
    "    glob=\"**/*.pdf\",\n",
    "    loader_cls=PyPDFLoader\n",
    ")\n",
    "\n",
    "pptx_loader = DirectoryLoader(\n",
    "    path=directory_path,\n",
    "    glob=\"**/*.pptx\",\n",
    "    loader_cls=UnstructuredPowerPointLoader\n",
    ")\n",
    "\n",
    "# Load documents from each loader\n",
    "txt_docs = txt_loader.load()\n",
    "pdf_docs = pdf_loader.load()\n",
    "pptx_docs = pptx_loader.load()\n",
    "\n",
    "# Combine all documents\n",
    "all_docs = txt_docs + pdf_docs + pptx_docs\n",
    "\n",
    "splitter = RecursiveCharacterTextSplitter(chunk_size=400,chunk_overlap=70)"
   ]
  },
  {
   "cell_type": "code",
   "execution_count": 59,
   "id": "83f82833",
   "metadata": {},
   "outputs": [
    {
     "data": {
      "text/plain": [
       "439"
      ]
     },
     "execution_count": 59,
     "metadata": {},
     "output_type": "execute_result"
    }
   ],
   "source": [
    "docs = splitter.split_documents(all_docs) \n",
    "len(docs)"
   ]
  },
  {
   "cell_type": "code",
   "execution_count": 60,
   "id": "50038a7a",
   "metadata": {},
   "outputs": [
    {
     "name": "stdout",
     "output_type": "stream",
     "text": [
      "Advanced RAG Techniques\n",
      "\n",
      "While standard RAG provides a robust framework for knowledge-augmented generation, several advanced techniques have been developed to further enhance its performance:\n",
      "\n",
      "1. Context-Aware Retrieval: This involves using query expansion, query rewriting, or user history to improve retrieval accuracy. It ensures that the most contextually relevant documents are retrieved.\n"
     ]
    }
   ],
   "source": [
    "print(docs[11].page_content)"
   ]
  },
  {
   "cell_type": "code",
   "execution_count": 27,
   "id": "a9de18e3",
   "metadata": {},
   "outputs": [],
   "source": [
    "import os\n",
    "from dotenv import load_dotenv\n",
    "load_dotenv()\n",
    "from langchain_core.documents import Document\n",
    "from langchain_community.document_loaders import PyPDFDirectoryLoader\n",
    "from langchain_core.output_parsers import StrOutputParser\n",
    "from langchain_core.runnables import RunnablePassthrough\n",
    "from langchain_groq import ChatGroq\n",
    "from langchain_huggingface.embeddings import HuggingFaceEmbeddings"
   ]
  },
  {
   "cell_type": "code",
   "execution_count": 73,
   "id": "22480fd6",
   "metadata": {},
   "outputs": [],
   "source": [
    "ASTRA_DB_API_ENDPOINT = os.getenv('ASTRA_DB_API_ENDPOINT')\n",
    "ASTRA_DB_APPLICATION_TOKEN=os.getenv('ASTRA_DB_APPLICATION_TOKEN')\n",
    "ASTRA_DB_KEYSPACE='default_keyspace'"
   ]
  },
  {
   "cell_type": "code",
   "execution_count": 30,
   "id": "4f753578",
   "metadata": {},
   "outputs": [],
   "source": [
    "groq_api_key=os.getenv('GROQ_API_KEY')"
   ]
  },
  {
   "cell_type": "code",
   "execution_count": 31,
   "id": "e7317147",
   "metadata": {},
   "outputs": [],
   "source": [
    "embedding_model = HuggingFaceEmbeddings(model_name='sentence-transformers/all-MiniLM-L6-v2')\n",
    "llm = ChatGroq(model_name=\"meta-llama/llama-4-scout-17b-16e-instruct\", temperature=0,api_key=groq_api_key)"
   ]
  },
  {
   "cell_type": "code",
   "execution_count": 32,
   "id": "525a6531",
   "metadata": {},
   "outputs": [],
   "source": [
    "from langchain_astradb import AstraDBVectorStore\n",
    "from langchain.indexes import VectorstoreIndexCreator   "
   ]
  },
  {
   "cell_type": "code",
   "execution_count": 62,
   "id": "18988c8c",
   "metadata": {},
   "outputs": [],
   "source": [
    "db = AstraDBVectorStore(\n",
    "    embedding=embedding_model,\n",
    "    collection_name='multidoc_vector',\n",
    "    api_endpoint=ASTRA_DB_API_ENDPOINT,\n",
    "    token=ASTRA_DB_APPLICATION_TOKEN,\n",
    "    namespace=ASTRA_DB_KEYSPACE\n",
    ")"
   ]
  },
  {
   "cell_type": "code",
   "execution_count": 63,
   "id": "da4a7680",
   "metadata": {},
   "outputs": [],
   "source": [
    "inserted_ides = db.add_documents(docs)"
   ]
  },
  {
   "cell_type": "code",
   "execution_count": 64,
   "id": "364cdf5d",
   "metadata": {},
   "outputs": [
    {
     "name": "stdout",
     "output_type": "stream",
     "text": [
      "\n",
      "Inserted 439 documents.\n"
     ]
    }
   ],
   "source": [
    "print(f\"\\nInserted {len(inserted_ides)} documents.\")"
   ]
  },
  {
   "cell_type": "code",
   "execution_count": 36,
   "id": "9f2226e0",
   "metadata": {},
   "outputs": [],
   "source": [
    "retriver = db.as_retriever(search_kwargs={'k': 5})"
   ]
  },
  {
   "cell_type": "code",
   "execution_count": 37,
   "id": "74331646",
   "metadata": {},
   "outputs": [],
   "source": [
    "from langchain_core.prompts import ChatPromptTemplate"
   ]
  },
  {
   "cell_type": "code",
   "execution_count": 67,
   "id": "f4df0612",
   "metadata": {},
   "outputs": [],
   "source": [
    "prompt = ChatPromptTemplate.from_template(\n",
    "    '''\n",
    "    Your a an AI researcher who is an expert in RAG systems.\n",
    "    Answer any question asked by the user.\n",
    "    construct answers in the form of bullet points\n",
    "    Craft your response only from the provided context only.\n",
    "    If you cannot find any related information from the context, simply say no context provied.\n",
    "    Do not hallucinate.\n",
    "    \n",
    "    <context>\n",
    "    {context}\n",
    "    </context>\n",
    "    \n",
    "    QUESTION:{question}\n",
    "    '''\n",
    ")"
   ]
  },
  {
   "cell_type": "code",
   "execution_count": 68,
   "id": "650f23ea",
   "metadata": {},
   "outputs": [],
   "source": [
    "from langchain.chains.combine_documents import create_stuff_documents_chain\n",
    "document_chain = create_stuff_documents_chain(llm, prompt) "
   ]
  },
  {
   "cell_type": "code",
   "execution_count": 72,
   "id": "f9e5c7aa",
   "metadata": {},
   "outputs": [
    {
     "name": "stdout",
     "output_type": "stream",
     "text": [
      "Here is the answer to your question in bullet points:\n",
      "\n",
      "* Yunfan Gaoa is a researcher affiliated with the Shanghai Research Institute for Intelligent Autonomous Systems, Tongji University. \n",
      "* He is one of the authors of the survey paper \"Retrieval-Augmented Generation for Large Language Models: A Survey\".\n"
     ]
    }
   ],
   "source": [
    "user_prompt = input(str())\n",
    "relevant_info = retriver.invoke(user_prompt)# Get relevent info from db and will be stuffed into the prompt as {context}.\n",
    "response = document_chain.invoke({\"context\": relevant_info, \"question\": user_prompt})# feed related docs and user query to model.\n",
    "print(response)\n"
   ]
  },
  {
   "cell_type": "code",
   "execution_count": null,
   "id": "ed55241b",
   "metadata": {},
   "outputs": [],
   "source": []
  },
  {
   "cell_type": "code",
   "execution_count": null,
   "id": "1aafa30e",
   "metadata": {},
   "outputs": [],
   "source": []
  },
  {
   "cell_type": "code",
   "execution_count": null,
   "id": "c9fe3473",
   "metadata": {},
   "outputs": [],
   "source": []
  },
  {
   "cell_type": "code",
   "execution_count": null,
   "id": "2ca68c25",
   "metadata": {},
   "outputs": [],
   "source": []
  }
 ],
 "metadata": {
  "kernelspec": {
   "display_name": "Python 3",
   "language": "python",
   "name": "python3"
  },
  "language_info": {
   "codemirror_mode": {
    "name": "ipython",
    "version": 3
   },
   "file_extension": ".py",
   "mimetype": "text/x-python",
   "name": "python",
   "nbconvert_exporter": "python",
   "pygments_lexer": "ipython3",
   "version": "3.10.0"
  }
 },
 "nbformat": 4,
 "nbformat_minor": 5
}
